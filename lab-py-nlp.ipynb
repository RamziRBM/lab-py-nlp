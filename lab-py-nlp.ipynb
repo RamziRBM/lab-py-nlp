{
  "cells": [
    {
      "cell_type": "markdown",
      "id": "acf31a39",
      "metadata": {
        "id": "acf31a39"
      },
      "source": [
        "# **Comprehensive NLP Lab: From Preprocessing to Feature Extraction**"
      ]
    },
    {
      "cell_type": "markdown",
      "id": "0bb5fcd9",
      "metadata": {
        "id": "0bb5fcd9"
      },
      "source": [
        "In this lab, you will explore a wide range of Natural Language Processing (NLP) techniques, from basic text preprocessing to advanced feature extraction and analysis. By the end of this lab, you will be able to:\n",
        "\n",
        "1. **Tokenize** and preprocess text data.\n",
        "2. Remove **stop words** and **punctuation**.\n",
        "3. Apply **stemming** and **lemmatization**.\n",
        "4. Extract features using **Bag of Words (BoW)** and **TF-IDF**.\n",
        "5. Generate **n-grams** to capture contextual information.\n",
        "6. Evaluate the impact of different preprocessing techniques on text data.\n",
        "\n",
        "Let's dive in!"
      ]
    },
    {
      "cell_type": "markdown",
      "id": "f0bdb53e",
      "metadata": {
        "id": "f0bdb53e"
      },
      "source": [
        "## **1. Setup the Environment**\n"
      ]
    },
    {
      "cell_type": "markdown",
      "id": "9aa12605",
      "metadata": {
        "id": "9aa12605"
      },
      "source": [
        "Before we begin, ensure you have the necessary libraries installed. Run the following cell to install them:\n"
      ]
    },
    {
      "cell_type": "code",
      "execution_count": 1,
      "id": "6dd9b473",
      "metadata": {
        "id": "6dd9b473",
        "outputId": "d6e7f652-fc06-46f6-ce87-cca032e5ea3e",
        "colab": {
          "base_uri": "https://localhost:8080/"
        }
      },
      "outputs": [
        {
          "output_type": "stream",
          "name": "stdout",
          "text": [
            "Requirement already satisfied: nltk in /usr/local/lib/python3.12/dist-packages (3.9.1)\n",
            "Requirement already satisfied: scikit-learn in /usr/local/lib/python3.12/dist-packages (1.6.1)\n",
            "Requirement already satisfied: pandas in /usr/local/lib/python3.12/dist-packages (2.2.2)\n",
            "Requirement already satisfied: matplotlib in /usr/local/lib/python3.12/dist-packages (3.10.0)\n",
            "Requirement already satisfied: click in /usr/local/lib/python3.12/dist-packages (from nltk) (8.3.0)\n",
            "Requirement already satisfied: joblib in /usr/local/lib/python3.12/dist-packages (from nltk) (1.5.2)\n",
            "Requirement already satisfied: regex>=2021.8.3 in /usr/local/lib/python3.12/dist-packages (from nltk) (2024.11.6)\n",
            "Requirement already satisfied: tqdm in /usr/local/lib/python3.12/dist-packages (from nltk) (4.67.1)\n",
            "Requirement already satisfied: numpy>=1.19.5 in /usr/local/lib/python3.12/dist-packages (from scikit-learn) (2.0.2)\n",
            "Requirement already satisfied: scipy>=1.6.0 in /usr/local/lib/python3.12/dist-packages (from scikit-learn) (1.16.2)\n",
            "Requirement already satisfied: threadpoolctl>=3.1.0 in /usr/local/lib/python3.12/dist-packages (from scikit-learn) (3.6.0)\n",
            "Requirement already satisfied: python-dateutil>=2.8.2 in /usr/local/lib/python3.12/dist-packages (from pandas) (2.9.0.post0)\n",
            "Requirement already satisfied: pytz>=2020.1 in /usr/local/lib/python3.12/dist-packages (from pandas) (2025.2)\n",
            "Requirement already satisfied: tzdata>=2022.7 in /usr/local/lib/python3.12/dist-packages (from pandas) (2025.2)\n",
            "Requirement already satisfied: contourpy>=1.0.1 in /usr/local/lib/python3.12/dist-packages (from matplotlib) (1.3.3)\n",
            "Requirement already satisfied: cycler>=0.10 in /usr/local/lib/python3.12/dist-packages (from matplotlib) (0.12.1)\n",
            "Requirement already satisfied: fonttools>=4.22.0 in /usr/local/lib/python3.12/dist-packages (from matplotlib) (4.60.1)\n",
            "Requirement already satisfied: kiwisolver>=1.3.1 in /usr/local/lib/python3.12/dist-packages (from matplotlib) (1.4.9)\n",
            "Requirement already satisfied: packaging>=20.0 in /usr/local/lib/python3.12/dist-packages (from matplotlib) (25.0)\n",
            "Requirement already satisfied: pillow>=8 in /usr/local/lib/python3.12/dist-packages (from matplotlib) (11.3.0)\n",
            "Requirement already satisfied: pyparsing>=2.3.1 in /usr/local/lib/python3.12/dist-packages (from matplotlib) (3.2.5)\n",
            "Requirement already satisfied: six>=1.5 in /usr/local/lib/python3.12/dist-packages (from python-dateutil>=2.8.2->pandas) (1.17.0)\n"
          ]
        }
      ],
      "source": [
        "!pip install nltk scikit-learn pandas matplotlib\n"
      ]
    },
    {
      "cell_type": "markdown",
      "id": "3839e6cf",
      "metadata": {
        "id": "3839e6cf"
      },
      "source": [
        "Now, import the required libraries:"
      ]
    },
    {
      "cell_type": "code",
      "execution_count": 2,
      "id": "e27aa77b",
      "metadata": {
        "id": "e27aa77b"
      },
      "outputs": [],
      "source": [
        "\n",
        "import nltk\n",
        "import re\n",
        "import string\n",
        "import pandas as pd\n",
        "import matplotlib.pyplot as plt\n",
        "from nltk.corpus import stopwords\n",
        "from nltk.tokenize import word_tokenize\n",
        "from nltk.stem import PorterStemmer, WordNetLemmatizer\n",
        "from nltk import pos_tag\n",
        "from sklearn.feature_extraction.text import CountVectorizer, TfidfVectorizer"
      ]
    },
    {
      "cell_type": "code",
      "execution_count": 3,
      "id": "c5a2544b",
      "metadata": {
        "colab": {
          "base_uri": "https://localhost:8080/"
        },
        "id": "c5a2544b",
        "outputId": "73f9b876-3d4c-4846-b110-ecc8273b088b"
      },
      "outputs": [
        {
          "output_type": "stream",
          "name": "stderr",
          "text": [
            "[nltk_data] Downloading package punkt to /root/nltk_data...\n",
            "[nltk_data]   Unzipping tokenizers/punkt.zip.\n",
            "[nltk_data] Downloading package stopwords to /root/nltk_data...\n",
            "[nltk_data]   Unzipping corpora/stopwords.zip.\n",
            "[nltk_data] Downloading package averaged_perceptron_tagger to\n",
            "[nltk_data]     /root/nltk_data...\n",
            "[nltk_data]   Unzipping taggers/averaged_perceptron_tagger.zip.\n",
            "[nltk_data] Downloading package wordnet to /root/nltk_data...\n",
            "[nltk_data] Downloading package punkt_tab to /root/nltk_data...\n",
            "[nltk_data]   Unzipping tokenizers/punkt_tab.zip.\n",
            "[nltk_data] Downloading package averaged_perceptron_tagger to\n",
            "[nltk_data]     /root/nltk_data...\n",
            "[nltk_data]   Package averaged_perceptron_tagger is already up-to-\n",
            "[nltk_data]       date!\n"
          ]
        },
        {
          "output_type": "execute_result",
          "data": {
            "text/plain": [
              "True"
            ]
          },
          "metadata": {},
          "execution_count": 3
        }
      ],
      "source": [
        "# Download NLTK datasets\n",
        "nltk.download('punkt')\n",
        "nltk.download('stopwords')\n",
        "nltk.download('averaged_perceptron_tagger')\n",
        "nltk.download('wordnet')\n",
        "nltk.download('punkt_tab')\n",
        "nltk.download('averaged_perceptron_tagger')\n",
        "\n"
      ]
    },
    {
      "cell_type": "markdown",
      "id": "cec67490",
      "metadata": {
        "id": "cec67490"
      },
      "source": [
        "## **2. Text Preprocessing**"
      ]
    },
    {
      "cell_type": "markdown",
      "id": "5b6877c3",
      "metadata": {
        "id": "5b6877c3"
      },
      "source": [
        "### **Exercise 1: Tokenization and Stop Word Removal**"
      ]
    },
    {
      "cell_type": "markdown",
      "id": "956bdaa1",
      "metadata": {
        "id": "956bdaa1"
      },
      "source": [
        "Tokenize the following text"
      ]
    },
    {
      "cell_type": "code",
      "execution_count": 5,
      "id": "d82fcea5",
      "metadata": {
        "id": "d82fcea5",
        "outputId": "103de3ef-8332-420c-e6d3-b115ff906ffd",
        "colab": {
          "base_uri": "https://localhost:8080/"
        }
      },
      "outputs": [
        {
          "output_type": "stream",
          "name": "stdout",
          "text": [
            "['Natural', 'Language', 'Processing', '(', 'NLP', ')', 'is', 'a', 'fascinating', 'field', 'of', 'study', '!', 'It', 'involves', 'analyzing', 'and', 'understanding', 'human', 'language', '.']\n"
          ]
        }
      ],
      "source": [
        "text = [\"Natural Language Processing (NLP) is a fascinating field of study! It involves analyzing and understanding human language.\"]\n",
        "tokenized_docs = [word_tokenize(doc) for doc in text]\n",
        "for doc in tokenized_docs:\n",
        "    print(doc)"
      ]
    },
    {
      "cell_type": "markdown",
      "id": "26303ab9",
      "metadata": {
        "id": "26303ab9"
      },
      "source": [
        "Remove stop words and store the result in a variable called `filtered_tokens`"
      ]
    },
    {
      "cell_type": "code",
      "execution_count": 6,
      "id": "d09992c8",
      "metadata": {
        "id": "d09992c8"
      },
      "outputs": [],
      "source": [
        "stop_words = set(stopwords.words('english'))\n",
        "filtered_tokens = [word for word in tokenized_docs[0] if word.lower() not in stop_words]"
      ]
    },
    {
      "cell_type": "code",
      "execution_count": 7,
      "id": "14120510",
      "metadata": {
        "id": "14120510",
        "outputId": "25e1fb4f-e752-49d9-f516-bb766c8a4021",
        "colab": {
          "base_uri": "https://localhost:8080/"
        }
      },
      "outputs": [
        {
          "output_type": "stream",
          "name": "stdout",
          "text": [
            "Filtered Tokens: ['Natural', 'Language', 'Processing', '(', 'NLP', ')', 'fascinating', 'field', 'study', '!', 'involves', 'analyzing', 'understanding', 'human', 'language', '.']\n"
          ]
        }
      ],
      "source": [
        "print(\"Filtered Tokens:\", filtered_tokens)"
      ]
    },
    {
      "cell_type": "markdown",
      "id": "50f0b30d",
      "metadata": {
        "id": "50f0b30d"
      },
      "source": [
        "### **Exercise 2: Stemming and Lemmatization**"
      ]
    },
    {
      "cell_type": "markdown",
      "id": "c6949309",
      "metadata": {
        "id": "c6949309"
      },
      "source": [
        "Apply stemming and lemmatization to the `filtered_tokens`. Compare the results."
      ]
    },
    {
      "cell_type": "code",
      "execution_count": 8,
      "id": "03dd22dd",
      "metadata": {
        "id": "03dd22dd"
      },
      "outputs": [],
      "source": [
        "stemmer = PorterStemmer()\n",
        "lemmatizer = WordNetLemmatizer()"
      ]
    },
    {
      "cell_type": "markdown",
      "id": "d063d90e",
      "metadata": {
        "id": "d063d90e"
      },
      "source": [
        "Apply stemming and store the result in `stemmed_tokens`"
      ]
    },
    {
      "cell_type": "code",
      "execution_count": 10,
      "id": "6120c6d0",
      "metadata": {
        "id": "6120c6d0"
      },
      "outputs": [],
      "source": [
        "stemmed_tokens = [stemmer.stem(word) for word in filtered_tokens]"
      ]
    },
    {
      "cell_type": "code",
      "execution_count": 11,
      "id": "c2c5d353",
      "metadata": {
        "id": "c2c5d353",
        "outputId": "4f3c1570-c8e0-4102-99db-2495745f974e",
        "colab": {
          "base_uri": "https://localhost:8080/"
        }
      },
      "outputs": [
        {
          "output_type": "stream",
          "name": "stdout",
          "text": [
            "Stemmed Tokens: ['natur', 'languag', 'process', '(', 'nlp', ')', 'fascin', 'field', 'studi', '!', 'involv', 'analyz', 'understand', 'human', 'languag', '.']\n"
          ]
        }
      ],
      "source": [
        "print(\"Stemmed Tokens:\", stemmed_tokens)"
      ]
    },
    {
      "cell_type": "markdown",
      "id": "a2dc333a",
      "metadata": {
        "id": "a2dc333a"
      },
      "source": [
        "Apply lemmatization and store the result in `lemmatized_tokens`"
      ]
    },
    {
      "cell_type": "code",
      "execution_count": 19,
      "id": "c2b23234",
      "metadata": {
        "id": "c2b23234"
      },
      "outputs": [],
      "source": [
        "lemmatized_tokens = [lemmatizer.lemmatize(word) for word in filtered_tokens]"
      ]
    },
    {
      "cell_type": "code",
      "execution_count": 20,
      "id": "08f49cad",
      "metadata": {
        "id": "08f49cad",
        "outputId": "4abf1d48-1433-4a0f-b94a-80804c227764",
        "colab": {
          "base_uri": "https://localhost:8080/"
        }
      },
      "outputs": [
        {
          "output_type": "stream",
          "name": "stdout",
          "text": [
            "Lemmatized Tokens: ['Natural', 'Language', 'Processing', '(', 'NLP', ')', 'fascinating', 'field', 'study', '!', 'involves', 'analyzing', 'understanding', 'human', 'language', '.']\n"
          ]
        }
      ],
      "source": [
        "print(\"Lemmatized Tokens:\", lemmatized_tokens)"
      ]
    },
    {
      "cell_type": "markdown",
      "id": "20531b9b",
      "metadata": {
        "id": "20531b9b"
      },
      "source": [
        "## **3. Feature Extraction**"
      ]
    },
    {
      "cell_type": "markdown",
      "id": "a5fbd840",
      "metadata": {
        "id": "a5fbd840"
      },
      "source": [
        "### **Exercise 3: Bag of Words (BoW)**"
      ]
    },
    {
      "cell_type": "markdown",
      "id": "b7765074",
      "metadata": {
        "id": "b7765074"
      },
      "source": [
        "Use the `CountVectorizer` from `scikit-learn` to create a Bag of Words representation of the following corpus"
      ]
    },
    {
      "cell_type": "code",
      "execution_count": 22,
      "id": "39c86f37",
      "metadata": {
        "id": "39c86f37"
      },
      "outputs": [],
      "source": [
        "corpus = [\n",
        "    \"I love NLP.\",\n",
        "    \"NLP is amazing.\",\n",
        "    \"I enjoy learning new things in NLP.\"\n",
        "]"
      ]
    },
    {
      "cell_type": "code",
      "execution_count": 23,
      "id": "45334917",
      "metadata": {
        "id": "45334917"
      },
      "outputs": [],
      "source": [
        "\n",
        "# your code here\n",
        "# Step 1: Initialize the CountVectorizer\n",
        "\n",
        "# Step 2: Fit and transform the corpus into a BoW representation\n",
        "\n",
        "# Initialize the CountVectorizer\n",
        "vectorizer = CountVectorizer()\n",
        "# Fit the vectorizer on the text data\n",
        "X = vectorizer.fit_transform(corpus)"
      ]
    },
    {
      "cell_type": "code",
      "execution_count": 24,
      "id": "bfb3b95e",
      "metadata": {
        "id": "bfb3b95e",
        "outputId": "33bca1f6-5155-4ba3-e74e-e272ff935631",
        "colab": {
          "base_uri": "https://localhost:8080/"
        }
      },
      "outputs": [
        {
          "output_type": "stream",
          "name": "stdout",
          "text": [
            "Bag of Words:\n",
            " [[0 0 0 0 0 1 0 1 0]\n",
            " [1 0 0 1 0 0 0 1 0]\n",
            " [0 1 1 0 1 0 1 1 1]]\n",
            "Vocabulary: ['amazing' 'enjoy' 'in' 'is' 'learning' 'love' 'new' 'nlp' 'things']\n"
          ]
        }
      ],
      "source": [
        "print(\"Bag of Words:\\n\", X.toarray())\n",
        "print(\"Vocabulary:\", vectorizer.get_feature_names_out())"
      ]
    },
    {
      "cell_type": "markdown",
      "id": "b0d79220",
      "metadata": {
        "id": "b0d79220"
      },
      "source": [
        "### **Exercise 4: TF-IDF**"
      ]
    },
    {
      "cell_type": "markdown",
      "id": "55622108",
      "metadata": {
        "id": "55622108"
      },
      "source": [
        "Use the `TfidfVectorizer` from `scikit-learn` to create a TF-IDF representation of the same corpus. Store the result in `X_tfidf`"
      ]
    },
    {
      "cell_type": "code",
      "execution_count": 31,
      "id": "ba20ee5c",
      "metadata": {
        "id": "ba20ee5c"
      },
      "outputs": [],
      "source": [
        "# your code here\n",
        "# Step 1: Initialize the TfidfVectorizer\n",
        "\n",
        "# Step 2: Fit and transform the corpus into a TF-IDF representation\n",
        "\n",
        "# Initialize the TfidfVectorizer\n",
        "tfidf_vectorizer = TfidfVectorizer()\n",
        "# Fit the vectorizer on the text data\n",
        "X_tfidf = tfidf_vectorizer.fit_transform(corpus)"
      ]
    },
    {
      "cell_type": "code",
      "execution_count": 32,
      "id": "e0df3ff9",
      "metadata": {
        "id": "e0df3ff9",
        "outputId": "5d6f2da9-ff96-4c00-dcf3-53bb73693e5f",
        "colab": {
          "base_uri": "https://localhost:8080/"
        }
      },
      "outputs": [
        {
          "output_type": "stream",
          "name": "stdout",
          "text": [
            "TF-IDF:\n",
            " [[0.         0.         0.         0.         0.         0.861037\n",
            "  0.         0.50854232 0.        ]\n",
            " [0.65249088 0.         0.         0.65249088 0.         0.\n",
            "  0.         0.38537163 0.        ]\n",
            " [0.         0.43238509 0.43238509 0.         0.43238509 0.\n",
            "  0.43238509 0.2553736  0.43238509]]\n",
            "Vocabulary: ['amazing' 'enjoy' 'in' 'is' 'learning' 'love' 'new' 'nlp' 'things']\n"
          ]
        }
      ],
      "source": [
        "print(\"TF-IDF:\\n\", X_tfidf.toarray())\n",
        "print(\"Vocabulary:\", tfidf_vectorizer.get_feature_names_out())"
      ]
    },
    {
      "cell_type": "markdown",
      "id": "a0a6cee3",
      "metadata": {
        "id": "a0a6cee3"
      },
      "source": [
        "### **Exercise 5: N-grams**"
      ]
    },
    {
      "cell_type": "markdown",
      "id": "95c9d66d",
      "metadata": {
        "id": "95c9d66d"
      },
      "source": [
        "Generate `bigrams (2-grams)` from the corpus using `CountVectorizer`. Store the result in `X_bigram`"
      ]
    },
    {
      "cell_type": "code",
      "execution_count": null,
      "id": "9de7b987",
      "metadata": {
        "id": "9de7b987"
      },
      "outputs": [],
      "source": [
        "# your code here\n",
        "# Step 1: Initialize the CountVectorizer with ngram_range=(2, 2)\n",
        "bigram_vectorizer =\n",
        "# Step 2: Fit and transform the corpus into a bigram representation\n",
        "\n"
      ]
    },
    {
      "cell_type": "code",
      "execution_count": null,
      "id": "7b210fc9",
      "metadata": {
        "id": "7b210fc9"
      },
      "outputs": [],
      "source": [
        "print(\"Bigrams:\\n\", X_bigram.toarray())\n",
        "print(\"Bigram Vocabulary:\", bigram_vectorizer.get_feature_names_out())"
      ]
    },
    {
      "cell_type": "markdown",
      "id": "f7896acb",
      "metadata": {
        "id": "f7896acb"
      },
      "source": [
        "## **4. Advanced Exercise: Custom Preprocessing Pipeline**"
      ]
    },
    {
      "cell_type": "markdown",
      "id": "68072a1e",
      "metadata": {
        "id": "68072a1e"
      },
      "source": [
        "### **Exercise 6: Build a Custom Preprocessing Pipeline**"
      ]
    },
    {
      "cell_type": "markdown",
      "id": "7bb33268",
      "metadata": {
        "id": "7bb33268"
      },
      "source": [
        "Combine all the preprocessing steps (tokenization, stop word removal, punctuation removal, stemming/lemmatization) into a single function."
      ]
    },
    {
      "cell_type": "code",
      "execution_count": null,
      "id": "cfff29b9",
      "metadata": {
        "id": "cfff29b9"
      },
      "outputs": [],
      "source": [
        "# your code here\n",
        "def text_preprocessing_pipeline(text):\n",
        "    # Step 1: Tokenize the text\n",
        "\n",
        "    # Step 2: Remove stop words\n",
        "\n",
        "    # Step 3: Remove punctuation\n",
        "\n",
        "    # Step 4: Apply lemmatization\n",
        "\n",
        "    return lemmatized_tokens\n"
      ]
    },
    {
      "cell_type": "markdown",
      "id": "b8170a6c",
      "metadata": {
        "id": "b8170a6c"
      },
      "source": [
        "Apply this function to the following text"
      ]
    },
    {
      "cell_type": "code",
      "execution_count": null,
      "id": "e1777799",
      "metadata": {
        "id": "e1777799"
      },
      "outputs": [],
      "source": [
        "text = \"Natural Language Processing (NLP) is a fascinating field of study! It involves analyzing and understanding human language.\"\n",
        "\n",
        "# your code here\n"
      ]
    },
    {
      "cell_type": "code",
      "execution_count": null,
      "id": "c75b50c5",
      "metadata": {
        "id": "c75b50c5"
      },
      "outputs": [],
      "source": [
        "print(\"Processed Text:\", processed_text)"
      ]
    },
    {
      "cell_type": "markdown",
      "id": "3625df20",
      "metadata": {
        "id": "3625df20"
      },
      "source": [
        "## **5. Evaluation of Preprocessing Techniques**"
      ]
    },
    {
      "cell_type": "markdown",
      "id": "3a666da0",
      "metadata": {
        "id": "3a666da0"
      },
      "source": [
        "### **Exercise 7: Compare Preprocessing Techniques**"
      ]
    },
    {
      "cell_type": "markdown",
      "id": "dae05a37",
      "metadata": {
        "id": "dae05a37"
      },
      "source": [
        "Compare the results of stemming and lemmatization on the following sentence. Store the results in `stemmed_tokens` and `lemmatized_tokens`"
      ]
    },
    {
      "cell_type": "code",
      "execution_count": null,
      "id": "1e70cba9",
      "metadata": {
        "id": "1e70cba9"
      },
      "outputs": [],
      "source": [
        "sentence = \"The cats are playing with the mice in the garden.\"\n",
        "# your code here\n",
        "# Step 1: Tokenize and preprocess the sentence and store the result in filtered_tokens\n",
        "\n",
        "# Step 2: Apply stemming\n",
        "\n",
        "# Step 3: Apply lemmatization\n",
        "\n",
        "\n"
      ]
    },
    {
      "cell_type": "code",
      "execution_count": null,
      "id": "125ca6a2",
      "metadata": {
        "id": "125ca6a2"
      },
      "outputs": [],
      "source": [
        "print(\"Original Tokens:\", filtered_tokens)\n",
        "print(\"Stemmed Tokens:\", stemmed_tokens)\n",
        "print(\"Lemmatized Tokens:\", lemmatized_tokens)"
      ]
    },
    {
      "cell_type": "markdown",
      "id": "c32c465f",
      "metadata": {
        "id": "c32c465f"
      },
      "source": [
        "## **6. Real-World Dataset: Sentiment Analysis**"
      ]
    },
    {
      "cell_type": "markdown",
      "id": "c5a598d9",
      "metadata": {
        "id": "c5a598d9"
      },
      "source": [
        "### **Exercise 8: Preprocess and Analyze Tweets**"
      ]
    },
    {
      "cell_type": "markdown",
      "id": "d056ab80",
      "metadata": {
        "id": "d056ab80"
      },
      "source": [
        "In this exercise, you will work with a real-world dataset of tweets. The dataset contains 5000 positive and 5000 negative tweets. Your task is to preprocess the tweets and extract features for sentiment analysis.\n"
      ]
    },
    {
      "cell_type": "code",
      "execution_count": null,
      "id": "d1e37f72",
      "metadata": {
        "id": "d1e37f72"
      },
      "outputs": [],
      "source": [
        "nltk.download('twitter_samples')"
      ]
    },
    {
      "cell_type": "code",
      "execution_count": null,
      "id": "c2c60819",
      "metadata": {
        "id": "c2c60819"
      },
      "outputs": [],
      "source": [
        "# Load the dataset\n",
        "from nltk.corpus import twitter_samples"
      ]
    },
    {
      "cell_type": "markdown",
      "id": "c43847ae",
      "metadata": {
        "id": "c43847ae"
      },
      "source": [
        "Load the dataset of positive and negative tweets."
      ]
    },
    {
      "cell_type": "code",
      "execution_count": null,
      "id": "5b423ebc",
      "metadata": {
        "id": "5b423ebc"
      },
      "outputs": [],
      "source": [
        "positive_tweets = twitter_samples.strings('positive_tweets.json')\n",
        "negative_tweets = twitter_samples.strings('negative_tweets.json')"
      ]
    },
    {
      "cell_type": "markdown",
      "id": "339b8248",
      "metadata": {
        "id": "339b8248"
      },
      "source": [
        "Combine them into a single list called ``all_tweets`` and create a corresponding list of labels called `labels`."
      ]
    },
    {
      "cell_type": "code",
      "execution_count": null,
      "id": "271a4ee0",
      "metadata": {
        "id": "271a4ee0"
      },
      "outputs": [],
      "source": [
        "# your code here\n",
        "\n",
        "# Combine the datasets\n",
        "\n"
      ]
    },
    {
      "cell_type": "code",
      "execution_count": null,
      "id": "32ec3ed8",
      "metadata": {
        "id": "32ec3ed8"
      },
      "outputs": [],
      "source": [
        "# Print a sample tweet\n",
        "print(\"Sample Tweet:\", all_tweets[0])\n",
        "print(\"Label:\", labels[0])"
      ]
    },
    {
      "cell_type": "markdown",
      "id": "bfc2a04a",
      "metadata": {
        "id": "bfc2a04a"
      },
      "source": [
        "### **Exercise 9: Preprocess Tweets**"
      ]
    },
    {
      "cell_type": "markdown",
      "id": "b4d1e984",
      "metadata": {
        "id": "b4d1e984"
      },
      "source": [
        "Apply the custom preprocessing pipeline to the entire dataset of tweets. Store the result in ``preprocessed_tweets``."
      ]
    },
    {
      "cell_type": "code",
      "execution_count": null,
      "id": "39e8c02f",
      "metadata": {
        "id": "39e8c02f"
      },
      "outputs": [],
      "source": [
        "# Step 1: Apply the preprocessing pipeline to all tweets\n",
        "# your code here\n"
      ]
    },
    {
      "cell_type": "code",
      "execution_count": null,
      "id": "edeef254",
      "metadata": {
        "id": "edeef254"
      },
      "outputs": [],
      "source": [
        "# Print a sample preprocessed tweet\n",
        "print(\"Preprocessed Tweets Sample:\", preprocessed_tweets[0])"
      ]
    },
    {
      "cell_type": "markdown",
      "id": "a8658daf",
      "metadata": {
        "id": "a8658daf"
      },
      "source": [
        "### **Exercise 10: Feature Extraction on Tweets**"
      ]
    },
    {
      "cell_type": "markdown",
      "id": "381f161c",
      "metadata": {
        "id": "381f161c"
      },
      "source": [
        "Extract features from the preprocessed tweets using **Bag of Words** and **TF-IDF**. Store the results in ``X_bow`` and ``X_tfidf``, respectively."
      ]
    },
    {
      "cell_type": "code",
      "execution_count": null,
      "id": "bee42f6c",
      "metadata": {
        "id": "bee42f6c"
      },
      "outputs": [],
      "source": [
        "# your code here\n",
        "# Step 1: Create a Bag of Words representation\n",
        "\n",
        "\n",
        "\n",
        "# Step 2: Create a TF-IDF representation\n",
        "\n"
      ]
    },
    {
      "cell_type": "markdown",
      "id": "4912687c",
      "metadata": {
        "id": "4912687c"
      },
      "source": [
        "## **7. Conclusion**"
      ]
    },
    {
      "cell_type": "markdown",
      "id": "948ed4ac",
      "metadata": {
        "id": "948ed4ac"
      },
      "source": [
        "In this lab, you explored a wide range of NLP techniques, from basic text preprocessing to advanced feature extraction and analysis. You also worked with a real-world dataset of tweets and applied your knowledge to preprocess and extract features for sentiment analysis.\n",
        "\n"
      ]
    }
  ],
  "metadata": {
    "kernelspec": {
      "display_name": "base",
      "language": "python",
      "name": "python3"
    },
    "language_info": {
      "codemirror_mode": {
        "name": "ipython",
        "version": 3
      },
      "file_extension": ".py",
      "mimetype": "text/x-python",
      "name": "python",
      "nbconvert_exporter": "python",
      "pygments_lexer": "ipython3",
      "version": "3.12.7"
    },
    "colab": {
      "provenance": []
    }
  },
  "nbformat": 4,
  "nbformat_minor": 5
}